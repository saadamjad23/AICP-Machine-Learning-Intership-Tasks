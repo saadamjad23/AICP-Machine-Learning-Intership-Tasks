{
 "cells": [
  {
   "cell_type": "markdown",
   "id": "55624b8a",
   "metadata": {},
   "source": [
    "## AICP Internship Task"
   ]
  },
  {
   "cell_type": "markdown",
   "id": "a97a1cba",
   "metadata": {},
   "source": [
    "Anomaly detection in transactions means identifying unusual or unexpected patterns within\n",
    "transactions or related activities. These patterns, known as anomalies or outliers, deviate\n",
    "significantly from the expected norm and could indicate irregular or fraudulent behavior."
   ]
  },
  {
   "cell_type": "markdown",
   "id": "232fa6c9",
   "metadata": {},
   "source": [
    "Anomaly detection plays a crucial role in various businesses, especially those dealing with\n",
    "financial transactions, online activities, and security-sensitive operations."
   ]
  },
  {
   "cell_type": "markdown",
   "id": "c667bff0",
   "metadata": {},
   "source": [
    "We can follow a systematic process to address the challenge of anomaly detection. We can\n",
    "begin by collecting and preparing transaction data, ensuring its accuracy and consistency. Then,\n",
    "we can find patterns in the data to find anomalies and use specialized anomaly detection\n",
    "algorithms like isolation forest to detect anomalies.\n"
   ]
  },
  {
   "cell_type": "markdown",
   "id": "c502b614",
   "metadata": {},
   "source": [
    "Find the Dataset __“transaction_anomalies_dataset.csv”__.\n"
   ]
  },
  {
   "cell_type": "markdown",
   "id": "c610de59",
   "metadata": {},
   "source": [
    "The dataset contains information about various financial transactions, each represented by\n",
    "several features:"
   ]
  },
  {
   "cell_type": "markdown",
   "id": "ef0aa7bf",
   "metadata": {},
   "source": [
    "- __Transaction_ID:__ Unique identifier for each transaction.\n",
    "- **Transaction_Amount:** The monetary value of the transaction.\n",
    "- **Transaction_Volume:** The quantity or number of items/actions involved in the transaction.\n",
    "- **Average_Transaction_Amount:** The historical average transaction amount for the account.\n",
    "- **Frequency_of_Transactions:** How often transactions are typically performed by the account.\n",
    "- **Time_Since_Last_Transaction:** Time elapsed since the last transaction.\n",
    "- **Day_of_Week:** The day of the week when the transaction occurred.\n",
    "- **Time_of_Day:** The time of day when the transaction occurred.\n",
    "- **Age:** Age of the account holder.\n",
    "- **Gender:** Gender of the account holder.\n",
    "- **Income:** Income of the account holder.\n",
    "- **Account_Type:** Type of account (e.g., personal, business).\n"
   ]
  },
  {
   "cell_type": "markdown",
   "id": "fb434631",
   "metadata": {},
   "source": [
    "## Q1"
   ]
  },
  {
   "cell_type": "markdown",
   "id": "02eb167b",
   "metadata": {},
   "source": [
    " Import data and check null values, check column info and the descriptive statistics of the data.\n"
   ]
  },
  {
   "cell_type": "code",
   "execution_count": 73,
   "id": "13c56739",
   "metadata": {},
   "outputs": [],
   "source": [
    "# importing Pandas Library\n",
    "import pandas as pd"
   ]
  },
  {
   "cell_type": "code",
   "execution_count": 74,
   "id": "61c33d96",
   "metadata": {},
   "outputs": [],
   "source": [
    "# Importing Excel file as dataset\n",
    "dataset = pd.read_csv(\"transaction_anomalies_dataset.csv\")"
   ]
  },
  {
   "cell_type": "code",
   "execution_count": 75,
   "id": "a7cf80cf",
   "metadata": {},
   "outputs": [
    {
     "data": {
      "text/html": [
       "<div>\n",
       "<style scoped>\n",
       "    .dataframe tbody tr th:only-of-type {\n",
       "        vertical-align: middle;\n",
       "    }\n",
       "\n",
       "    .dataframe tbody tr th {\n",
       "        vertical-align: top;\n",
       "    }\n",
       "\n",
       "    .dataframe thead th {\n",
       "        text-align: right;\n",
       "    }\n",
       "</style>\n",
       "<table border=\"1\" class=\"dataframe\">\n",
       "  <thead>\n",
       "    <tr style=\"text-align: right;\">\n",
       "      <th></th>\n",
       "      <th>Transaction_ID</th>\n",
       "      <th>Transaction_Amount</th>\n",
       "      <th>Transaction_Volume</th>\n",
       "      <th>Average_Transaction_Amount</th>\n",
       "      <th>Frequency_of_Transactions</th>\n",
       "      <th>Time_Since_Last_Transaction</th>\n",
       "      <th>Day_of_Week</th>\n",
       "      <th>Time_of_Day</th>\n",
       "      <th>Age</th>\n",
       "      <th>Gender</th>\n",
       "      <th>Income</th>\n",
       "      <th>Account_Type</th>\n",
       "    </tr>\n",
       "  </thead>\n",
       "  <tbody>\n",
       "    <tr>\n",
       "      <th>0</th>\n",
       "      <td>TX0</td>\n",
       "      <td>1024.835708</td>\n",
       "      <td>3</td>\n",
       "      <td>997.234714</td>\n",
       "      <td>12</td>\n",
       "      <td>29</td>\n",
       "      <td>Friday</td>\n",
       "      <td>06:00</td>\n",
       "      <td>36</td>\n",
       "      <td>Male</td>\n",
       "      <td>1436074</td>\n",
       "      <td>Savings</td>\n",
       "    </tr>\n",
       "    <tr>\n",
       "      <th>1</th>\n",
       "      <td>TX1</td>\n",
       "      <td>1013.952065</td>\n",
       "      <td>4</td>\n",
       "      <td>1020.210306</td>\n",
       "      <td>7</td>\n",
       "      <td>22</td>\n",
       "      <td>Friday</td>\n",
       "      <td>01:00</td>\n",
       "      <td>41</td>\n",
       "      <td>Female</td>\n",
       "      <td>627069</td>\n",
       "      <td>Savings</td>\n",
       "    </tr>\n",
       "    <tr>\n",
       "      <th>2</th>\n",
       "      <td>TX2</td>\n",
       "      <td>970.956093</td>\n",
       "      <td>1</td>\n",
       "      <td>989.496604</td>\n",
       "      <td>5</td>\n",
       "      <td>12</td>\n",
       "      <td>Tuesday</td>\n",
       "      <td>21:00</td>\n",
       "      <td>61</td>\n",
       "      <td>Male</td>\n",
       "      <td>786232</td>\n",
       "      <td>Savings</td>\n",
       "    </tr>\n",
       "    <tr>\n",
       "      <th>3</th>\n",
       "      <td>TX3</td>\n",
       "      <td>1040.822254</td>\n",
       "      <td>2</td>\n",
       "      <td>969.522480</td>\n",
       "      <td>16</td>\n",
       "      <td>28</td>\n",
       "      <td>Sunday</td>\n",
       "      <td>14:00</td>\n",
       "      <td>61</td>\n",
       "      <td>Male</td>\n",
       "      <td>619030</td>\n",
       "      <td>Savings</td>\n",
       "    </tr>\n",
       "    <tr>\n",
       "      <th>4</th>\n",
       "      <td>TX4</td>\n",
       "      <td>998.777241</td>\n",
       "      <td>1</td>\n",
       "      <td>1007.111026</td>\n",
       "      <td>7</td>\n",
       "      <td>7</td>\n",
       "      <td>Friday</td>\n",
       "      <td>08:00</td>\n",
       "      <td>56</td>\n",
       "      <td>Female</td>\n",
       "      <td>649457</td>\n",
       "      <td>Savings</td>\n",
       "    </tr>\n",
       "    <tr>\n",
       "      <th>5</th>\n",
       "      <td>TX5</td>\n",
       "      <td>969.987307</td>\n",
       "      <td>1</td>\n",
       "      <td>1018.948796</td>\n",
       "      <td>6</td>\n",
       "      <td>20</td>\n",
       "      <td>Thursday</td>\n",
       "      <td>14:00</td>\n",
       "      <td>24</td>\n",
       "      <td>Male</td>\n",
       "      <td>872843</td>\n",
       "      <td>Savings</td>\n",
       "    </tr>\n",
       "    <tr>\n",
       "      <th>6</th>\n",
       "      <td>TX6</td>\n",
       "      <td>973.317560</td>\n",
       "      <td>2</td>\n",
       "      <td>999.889443</td>\n",
       "      <td>5</td>\n",
       "      <td>4</td>\n",
       "      <td>Tuesday</td>\n",
       "      <td>07:00</td>\n",
       "      <td>21</td>\n",
       "      <td>Male</td>\n",
       "      <td>1105889</td>\n",
       "      <td>Savings</td>\n",
       "    </tr>\n",
       "    <tr>\n",
       "      <th>7</th>\n",
       "      <td>TX7</td>\n",
       "      <td>931.103035</td>\n",
       "      <td>4</td>\n",
       "      <td>992.937667</td>\n",
       "      <td>10</td>\n",
       "      <td>29</td>\n",
       "      <td>Sunday</td>\n",
       "      <td>17:00</td>\n",
       "      <td>43</td>\n",
       "      <td>Male</td>\n",
       "      <td>502283</td>\n",
       "      <td>Savings</td>\n",
       "    </tr>\n",
       "    <tr>\n",
       "      <th>8</th>\n",
       "      <td>TX8</td>\n",
       "      <td>1036.923329</td>\n",
       "      <td>4</td>\n",
       "      <td>1003.427366</td>\n",
       "      <td>18</td>\n",
       "      <td>23</td>\n",
       "      <td>Thursday</td>\n",
       "      <td>07:00</td>\n",
       "      <td>38</td>\n",
       "      <td>Female</td>\n",
       "      <td>323247</td>\n",
       "      <td>Savings</td>\n",
       "    </tr>\n",
       "    <tr>\n",
       "      <th>9</th>\n",
       "      <td>TX9</td>\n",
       "      <td>1013.174302</td>\n",
       "      <td>4</td>\n",
       "      <td>1032.835422</td>\n",
       "      <td>14</td>\n",
       "      <td>25</td>\n",
       "      <td>Thursday</td>\n",
       "      <td>12:00</td>\n",
       "      <td>58</td>\n",
       "      <td>Female</td>\n",
       "      <td>1278732</td>\n",
       "      <td>Current</td>\n",
       "    </tr>\n",
       "  </tbody>\n",
       "</table>\n",
       "</div>"
      ],
      "text/plain": [
       "  Transaction_ID  Transaction_Amount  Transaction_Volume  \\\n",
       "0            TX0         1024.835708                   3   \n",
       "1            TX1         1013.952065                   4   \n",
       "2            TX2          970.956093                   1   \n",
       "3            TX3         1040.822254                   2   \n",
       "4            TX4          998.777241                   1   \n",
       "5            TX5          969.987307                   1   \n",
       "6            TX6          973.317560                   2   \n",
       "7            TX7          931.103035                   4   \n",
       "8            TX8         1036.923329                   4   \n",
       "9            TX9         1013.174302                   4   \n",
       "\n",
       "   Average_Transaction_Amount  Frequency_of_Transactions  \\\n",
       "0                  997.234714                         12   \n",
       "1                 1020.210306                          7   \n",
       "2                  989.496604                          5   \n",
       "3                  969.522480                         16   \n",
       "4                 1007.111026                          7   \n",
       "5                 1018.948796                          6   \n",
       "6                  999.889443                          5   \n",
       "7                  992.937667                         10   \n",
       "8                 1003.427366                         18   \n",
       "9                 1032.835422                         14   \n",
       "\n",
       "   Time_Since_Last_Transaction Day_of_Week Time_of_Day  Age  Gender   Income  \\\n",
       "0                           29      Friday       06:00   36    Male  1436074   \n",
       "1                           22      Friday       01:00   41  Female   627069   \n",
       "2                           12     Tuesday       21:00   61    Male   786232   \n",
       "3                           28      Sunday       14:00   61    Male   619030   \n",
       "4                            7      Friday       08:00   56  Female   649457   \n",
       "5                           20    Thursday       14:00   24    Male   872843   \n",
       "6                            4     Tuesday       07:00   21    Male  1105889   \n",
       "7                           29      Sunday       17:00   43    Male   502283   \n",
       "8                           23    Thursday       07:00   38  Female   323247   \n",
       "9                           25    Thursday       12:00   58  Female  1278732   \n",
       "\n",
       "  Account_Type  \n",
       "0      Savings  \n",
       "1      Savings  \n",
       "2      Savings  \n",
       "3      Savings  \n",
       "4      Savings  \n",
       "5      Savings  \n",
       "6      Savings  \n",
       "7      Savings  \n",
       "8      Savings  \n",
       "9      Current  "
      ]
     },
     "execution_count": 75,
     "metadata": {},
     "output_type": "execute_result"
    }
   ],
   "source": [
    "# reading first 10 indexes of dataset\n",
    "dataset.head(10)"
   ]
  },
  {
   "cell_type": "code",
   "execution_count": 76,
   "id": "87cfcc17",
   "metadata": {},
   "outputs": [],
   "source": [
    "# Checking for null values\n",
    "null_values = dataset.isnull()"
   ]
  },
  {
   "cell_type": "code",
   "execution_count": 77,
   "id": "8958ed84",
   "metadata": {},
   "outputs": [
    {
     "name": "stdout",
     "output_type": "stream",
     "text": [
      "Null Values are :\n",
      "      Transaction_ID  Transaction_Amount  Transaction_Volume  \\\n",
      "0             False               False               False   \n",
      "1             False               False               False   \n",
      "2             False               False               False   \n",
      "3             False               False               False   \n",
      "4             False               False               False   \n",
      "..              ...                 ...                 ...   \n",
      "995           False               False               False   \n",
      "996           False               False               False   \n",
      "997           False               False               False   \n",
      "998           False               False               False   \n",
      "999           False               False               False   \n",
      "\n",
      "     Average_Transaction_Amount  Frequency_of_Transactions  \\\n",
      "0                         False                      False   \n",
      "1                         False                      False   \n",
      "2                         False                      False   \n",
      "3                         False                      False   \n",
      "4                         False                      False   \n",
      "..                          ...                        ...   \n",
      "995                       False                      False   \n",
      "996                       False                      False   \n",
      "997                       False                      False   \n",
      "998                       False                      False   \n",
      "999                       False                      False   \n",
      "\n",
      "     Time_Since_Last_Transaction  Day_of_Week  Time_of_Day    Age  Gender  \\\n",
      "0                          False        False        False  False   False   \n",
      "1                          False        False        False  False   False   \n",
      "2                          False        False        False  False   False   \n",
      "3                          False        False        False  False   False   \n",
      "4                          False        False        False  False   False   \n",
      "..                           ...          ...          ...    ...     ...   \n",
      "995                        False        False        False  False   False   \n",
      "996                        False        False        False  False   False   \n",
      "997                        False        False        False  False   False   \n",
      "998                        False        False        False  False   False   \n",
      "999                        False        False        False  False   False   \n",
      "\n",
      "     Income  Account_Type  \n",
      "0     False         False  \n",
      "1     False         False  \n",
      "2     False         False  \n",
      "3     False         False  \n",
      "4     False         False  \n",
      "..      ...           ...  \n",
      "995   False         False  \n",
      "996   False         False  \n",
      "997   False         False  \n",
      "998   False         False  \n",
      "999   False         False  \n",
      "\n",
      "[1000 rows x 12 columns]\n"
     ]
    }
   ],
   "source": [
    "# printing null values\n",
    "print(\"Null Values are :\\n\", null_values)"
   ]
  },
  {
   "cell_type": "code",
   "execution_count": 78,
   "id": "ad262d18",
   "metadata": {},
   "outputs": [
    {
     "data": {
      "text/plain": [
       "Transaction_ID                 0\n",
       "Transaction_Amount             0\n",
       "Transaction_Volume             0\n",
       "Average_Transaction_Amount     0\n",
       "Frequency_of_Transactions      0\n",
       "Time_Since_Last_Transaction    0\n",
       "Day_of_Week                    0\n",
       "Time_of_Day                    0\n",
       "Age                            0\n",
       "Gender                         0\n",
       "Income                         0\n",
       "Account_Type                   0\n",
       "dtype: int64"
      ]
     },
     "execution_count": 78,
     "metadata": {},
     "output_type": "execute_result"
    }
   ],
   "source": [
    "# printing sum of all the null values\n",
    "null_values.sum()"
   ]
  },
  {
   "cell_type": "code",
   "execution_count": 79,
   "id": "7cdacb2f",
   "metadata": {},
   "outputs": [
    {
     "name": "stdout",
     "output_type": "stream",
     "text": [
      "<class 'pandas.core.frame.DataFrame'>\n",
      "RangeIndex: 1000 entries, 0 to 999\n",
      "Data columns (total 12 columns):\n",
      " #   Column                       Non-Null Count  Dtype  \n",
      "---  ------                       --------------  -----  \n",
      " 0   Transaction_ID               1000 non-null   object \n",
      " 1   Transaction_Amount           1000 non-null   float64\n",
      " 2   Transaction_Volume           1000 non-null   int64  \n",
      " 3   Average_Transaction_Amount   1000 non-null   float64\n",
      " 4   Frequency_of_Transactions    1000 non-null   int64  \n",
      " 5   Time_Since_Last_Transaction  1000 non-null   int64  \n",
      " 6   Day_of_Week                  1000 non-null   object \n",
      " 7   Time_of_Day                  1000 non-null   object \n",
      " 8   Age                          1000 non-null   int64  \n",
      " 9   Gender                       1000 non-null   object \n",
      " 10  Income                       1000 non-null   int64  \n",
      " 11  Account_Type                 1000 non-null   object \n",
      "dtypes: float64(2), int64(5), object(5)\n",
      "memory usage: 93.9+ KB\n"
     ]
    }
   ],
   "source": [
    "# checking column information\n",
    "column_info = dataset.info()"
   ]
  },
  {
   "cell_type": "code",
   "execution_count": 80,
   "id": "b7e056dc",
   "metadata": {},
   "outputs": [],
   "source": [
    "# calculating descriptive satistics\n",
    "statistics = dataset.describe()"
   ]
  },
  {
   "cell_type": "code",
   "execution_count": 81,
   "id": "75e87151",
   "metadata": {},
   "outputs": [
    {
     "name": "stdout",
     "output_type": "stream",
     "text": [
      "Descriptive statistics of the Dataset is : \n",
      "        Transaction_Amount  Transaction_Volume  Average_Transaction_Amount  \\\n",
      "count         1000.000000         1000.000000                 1000.000000   \n",
      "mean          1038.122511            2.498000                 1000.682506   \n",
      "std            283.580055            1.115006                   20.632334   \n",
      "min            849.024392            1.000000                  939.081423   \n",
      "25%            966.028796            1.000000                  986.800556   \n",
      "50%           1002.118678            3.000000                 1000.501902   \n",
      "75%           1033.143657            3.000000                 1015.155595   \n",
      "max           3227.459108            4.000000                 1073.154036   \n",
      "\n",
      "       Frequency_of_Transactions  Time_Since_Last_Transaction          Age  \\\n",
      "count                1000.000000                  1000.000000  1000.000000   \n",
      "mean                   12.078000                    15.341000    40.641000   \n",
      "std                     4.245225                     8.361258    13.819953   \n",
      "min                     5.000000                     1.000000    18.000000   \n",
      "25%                     8.000000                     8.000000    29.000000   \n",
      "50%                    12.000000                    16.000000    41.000000   \n",
      "75%                    16.000000                    22.000000    53.000000   \n",
      "max                    19.000000                    29.000000    64.000000   \n",
      "\n",
      "             Income  \n",
      "count  1.000000e+03  \n",
      "mean   8.948238e+05  \n",
      "std    3.453562e+05  \n",
      "min    3.001590e+05  \n",
      "25%    5.917308e+05  \n",
      "50%    8.876645e+05  \n",
      "75%    1.178102e+06  \n",
      "max    1.499670e+06  \n"
     ]
    }
   ],
   "source": [
    "# displaying satistics\n",
    "print(\"Descriptive statistics of the Dataset is : \\n\", statistics)"
   ]
  },
  {
   "cell_type": "markdown",
   "id": "dc553fcc",
   "metadata": {},
   "source": [
    "## Q2"
   ]
  },
  {
   "cell_type": "markdown",
   "id": "e3703369",
   "metadata": {},
   "source": [
    "Check distribution of transactions amount in the data"
   ]
  },
  {
   "cell_type": "code",
   "execution_count": 82,
   "id": "7ac06a54",
   "metadata": {},
   "outputs": [],
   "source": [
    "# importing Matplotlib to draw graphs\n",
    "import matplotlib.pyplot as plt"
   ]
  },
  {
   "cell_type": "code",
   "execution_count": 83,
   "id": "b408c195",
   "metadata": {},
   "outputs": [
    {
     "data": {
      "image/png": "[encoded data removed]",
      "text/plain": [
       "<Figure size 1000x600 with 1 Axes>"
      ]
     },
     "metadata": {},
     "output_type": "display_data"
    }
   ],
   "source": [
    "#ploting graph\n",
    "\n",
    "plt.figure(figsize = (10, 6))                                        # size of graph\n",
    "plt.hist(dataset['Transaction_Amount'], bins = 25, color = 'blue')   # ploting graph of type hist \n",
    "plt.title('Distribution of Transactions Amount')                     # title of the graph\n",
    "plt.xlabel('Transaction_Amount')                                     # x-axis label\n",
    "plt.ylabel('count')                                                  # y-axis label\n",
    "plt.grid(True)                                                       # griding\n",
    "plt.show()                                                           # displaying graph"
   ]
  },
  {
   "cell_type": "markdown",
   "id": "8ae5cfa0",
   "metadata": {},
   "source": [
    "## Q3"
   ]
  },
  {
   "cell_type": "markdown",
   "id": "2f05b8a2",
   "metadata": {},
   "source": [
    " Check distribution of transactions amount by account type\n"
   ]
  },
  {
   "cell_type": "code",
   "execution_count": 84,
   "id": "197bb9b2",
   "metadata": {},
   "outputs": [],
   "source": [
    "# importing statistical data visualization library\n",
    "import seaborn as sns"
   ]
  },
  {
   "cell_type": "code",
   "execution_count": 85,
   "id": "5bcfe21c",
   "metadata": {},
   "outputs": [
    {
     "data": {
      "image/png": "[encoded data removed]",
      "text/plain": [
       "<Figure size 640x480 with 1 Axes>"
      ]
     },
     "metadata": {},
     "output_type": "display_data"
    }
   ],
   "source": [
    "sns.boxplot(x = 'Account_Type' , y = 'Transaction_Amount', data = dataset)     # graph type and values\n",
    "plt.title('Distribution of Transaction amounts by account type')               # Title of the graph\n",
    "plt.xlabel('Account Type')                                                     # parameters of x-axis\n",
    "plt.ylabel('Transaction Amount')                                               # parameters of y-axis\n",
    "plt.show()                                                                     # declaration of the graph"
   ]
  },
  {
   "cell_type": "markdown",
   "id": "d08ab559",
   "metadata": {},
   "source": [
    "## Q4"
   ]
  },
  {
   "cell_type": "markdown",
   "id": "fa210afc",
   "metadata": {},
   "source": [
    "Check the average transaction amount by age."
   ]
  },
  {
   "cell_type": "code",
   "execution_count": 108,
   "id": "2c09356d",
   "metadata": {},
   "outputs": [],
   "source": [
    "# calculting average transaction amount per age\n",
    "average_transaction_by_age = dataset.groupby('Age')['Transaction_Amount'].mean().reset_index() "
   ]
  },
  {
   "cell_type": "code",
   "execution_count": 106,
   "id": "215af5db",
   "metadata": {},
   "outputs": [
    {
     "data": {
      "image/png": "[encoded data removed]",
      "text/plain": [
       "<Figure size 1000x600 with 1 Axes>"
      ]
     },
     "metadata": {},
     "output_type": "display_data"
    }
   ],
   "source": [
    "plt.figure(figsize = (10, 6))                            # size of the graph\n",
    "\n",
    "# defining plot type, x and y values, color and size of the scatterd dots\n",
    "sns.scatterplot(x = 'Age', y = 'Transaction_Amount', data = average_transaction_by_age, color = 'yellow', alpha = 1)\n",
    "\n",
    "plt.title('Average Transaction Amount vs. Age')          # title of the graph\n",
    "plt.xlabel('Age')                                        # x axis coordinates \n",
    "plt.ylabel('Average_Transaction_Amount')                 # x axis coordinates   \n",
    "plt.show()                                               # displaying graph"
   ]
  },
  {
   "cell_type": "markdown",
   "id": "ea65ac6d",
   "metadata": {},
   "source": [
    "## Q5"
   ]
  },
  {
   "cell_type": "markdown",
   "id": "0f81bc2c",
   "metadata": {},
   "source": [
    " Check the count of transactions by day of the week"
   ]
  },
  {
   "cell_type": "code",
   "execution_count": 109,
   "id": "ef96169c",
   "metadata": {},
   "outputs": [],
   "source": [
    "# calculating amount of transaction per day\n",
    "transaction_by_day = dataset.groupby('Day_of_Week')['Transaction_ID'].count().reset_index(name = 'Transaction_count')"
   ]
  },
  {
   "cell_type": "code",
   "execution_count": 110,
   "id": "ff6e89e4",
   "metadata": {},
   "outputs": [
    {
     "data": {
      "image/png": "[encoded data removed]",
      "text/plain": [
       "<Figure size 640x480 with 1 Axes>"
      ]
     },
     "metadata": {},
     "output_type": "display_data"
    }
   ],
   "source": [
    "# ploting bar graph with days mentioned as x axis coordinates and counting as y axis coordinate\n",
    "sns.barplot(x = 'Day_of_Week', y = 'Transaction_count', data = transaction_by_day, order = ['Monday', 'Tuesday', 'Wednesday', 'Thursday', 'Friday', 'Saturday', 'Sunday'])\n",
    "\n",
    "plt.title('Count of Transaction by Day of the Week')            # title of the graph\n",
    "plt.xlabel('Day_of_Week')                                       # x axis label\n",
    "plt.ylabel('count')                                             # y axis label\n",
    "plt.show()                                                      # displaying graph"
   ]
  },
  {
   "cell_type": "markdown",
   "id": "1d6c308f",
   "metadata": {},
   "source": [
    "## Q6"
   ]
  },
  {
   "cell_type": "markdown",
   "id": "4e5e06ca",
   "metadata": {},
   "source": [
    "Check the correlation between all the columns in the data"
   ]
  },
  {
   "cell_type": "code",
   "execution_count": 111,
   "id": "5ad6e6a3",
   "metadata": {},
   "outputs": [],
   "source": [
    "# selecting only the numerical columns to find coorelation\n",
    "numerical_columns = dataset.select_dtypes(include = ['float64','int64'])"
   ]
  },
  {
   "cell_type": "code",
   "execution_count": 112,
   "id": "494daf43",
   "metadata": {},
   "outputs": [],
   "source": [
    "# calculate the coorelation Matrix\n",
    "coorelation = numerical_columns.corr()"
   ]
  },
  {
   "cell_type": "code",
   "execution_count": 113,
   "id": "b94b60ae",
   "metadata": {},
   "outputs": [],
   "source": [
    "# Filling the NaN values with the mean of each column\n",
    "fill_nan = numerical_columns.fillna(numerical_columns.mean())"
   ]
  },
  {
   "cell_type": "code",
   "execution_count": 114,
   "id": "fd42e571",
   "metadata": {},
   "outputs": [],
   "source": [
    "# calculating coorelation matrix on the  filled DataFrame\n",
    "coorelation = fill_nan.corr()"
   ]
  },
  {
   "cell_type": "code",
   "execution_count": 115,
   "id": "a16f5bfc",
   "metadata": {},
   "outputs": [
    {
     "data": {
      "text/plain": [
       "(array([0.5, 1.5, 2.5, 3.5, 4.5, 5.5, 6.5]),\n",
       " [Text(0.5, 0, 'Transaction_Amount'),\n",
       "  Text(1.5, 0, 'Transaction_Volume'),\n",
       "  Text(2.5, 0, 'Average_Transaction_Amount'),\n",
       "  Text(3.5, 0, 'Frequency_of_Transactions'),\n",
       "  Text(4.5, 0, 'Time_Since_Last_Transaction'),\n",
       "  Text(5.5, 0, 'Age'),\n",
       "  Text(6.5, 0, 'Income')])"
      ]
     },
     "execution_count": 115,
     "metadata": {},
     "output_type": "execute_result"
    },
    {
     "data": {
      "image/png": "[encoded data removed]",
      "text/plain": [
       "<Figure size 1000x600 with 2 Axes>"
      ]
     },
     "metadata": {},
     "output_type": "display_data"
    }
   ],
   "source": [
    "plt.figure(figsize = (10, 6))                                       # figure size\n",
    "\n",
    "#generating graph of heatmap \n",
    "sns.heatmap(coorelation, cmap = 'crest',fmt = \".2f\")\n",
    "\n",
    "plt.title('Coorelation Heatmap')                                    # Title of graph\n",
    "plt.xticks(rotation = 45)                                           # rotates x axis labels for better readability"
   ]
  },
  {
   "cell_type": "markdown",
   "id": "84fa0871",
   "metadata": {},
   "source": [
    "## Q7"
   ]
  },
  {
   "cell_type": "markdown",
   "id": "d206fde2",
   "metadata": {},
   "source": [
    "Visualize anomalies in the data"
   ]
  },
  {
   "cell_type": "code",
   "execution_count": 116,
   "id": "1be34690",
   "metadata": {},
   "outputs": [],
   "source": [
    "from sklearn.ensemble import IsolationForest"
   ]
  },
  {
   "cell_type": "code",
   "execution_count": 117,
   "id": "eeb5f917",
   "metadata": {},
   "outputs": [],
   "source": [
    "import numpy as np"
   ]
  },
  {
   "cell_type": "code",
   "execution_count": 172,
   "id": "653d7480",
   "metadata": {},
   "outputs": [],
   "source": [
    "anomaly_columns = ['Transaction_Amount', 'Average_Transaction_Amount', 'Frequency_of_Transactions']"
   ]
  },
  {
   "cell_type": "code",
   "execution_count": 173,
   "id": "5541e2da",
   "metadata": {},
   "outputs": [],
   "source": [
    "model = IsolationForest(n_estimators = 100, contamination = 0.01)"
   ]
  },
  {
   "cell_type": "code",
   "execution_count": 174,
   "id": "75b28226",
   "metadata": {},
   "outputs": [],
   "source": [
    "dataset['Anomaly_score'] = model.fit_predict(dataset[anomaly_columns])"
   ]
  },
  {
   "cell_type": "code",
   "execution_count": 175,
   "id": "77d31976",
   "metadata": {},
   "outputs": [],
   "source": [
    "dataset['Anomaly_or_not'] = dataset['Anomaly_score'] == -1"
   ]
  },
  {
   "cell_type": "code",
   "execution_count": 176,
   "id": "edf5c8c3",
   "metadata": {},
   "outputs": [
    {
     "data": {
      "image/png": "[encoded data removed]",
      "text/plain": [
       "<Figure size 1000x600 with 1 Axes>"
      ]
     },
     "metadata": {},
     "output_type": "display_data"
    }
   ],
   "source": [
    "plt.figure(figsize = (10, 6), dpi = 100)\n",
    "sns.scatterplot(data = dataset, x = 'Transaction_Amount', y = 'Transaction_Amount', hue = 'Anomaly_or_not', palette = 'deep')\n",
    "sns.color_palette(\"Paired\")\n",
    "plt.title('Anomalies in Transaction Amount')\n",
    "plt.xlabel('Transaction_Amount')\n",
    "plt.ylabel('Average_Transaction_Amount')\n",
    "plt.show()"
   ]
  },
  {
   "cell_type": "markdown",
   "id": "4d7969c8",
   "metadata": {},
   "source": [
    "## Q8 "
   ]
  },
  {
   "cell_type": "markdown",
   "id": "9c34723e",
   "metadata": {},
   "source": [
    "Calculate the number of anomalies in the data to find the ratio of anomalies in the data,\n",
    "which will be useful while using anomaly detection algorithms like isolation forest."
   ]
  },
  {
   "cell_type": "code",
   "execution_count": 178,
   "id": "5e48c875",
   "metadata": {},
   "outputs": [],
   "source": [
    "number_of_anomalies = dataset['Anomaly_or_not'].sum()            # calculating total number of anamolies\n",
    "total_observations = len(dataset)                                # total observations done on dataset\n",
    "ratio_of_anomalies = number_of_anomalies/total_observations      # calculting ratio of calculated anamolies"
   ]
  },
  {
   "cell_type": "code",
   "execution_count": 179,
   "id": "c17b3708",
   "metadata": {},
   "outputs": [
    {
     "name": "stdout",
     "output_type": "stream",
     "text": [
      "Number of Anomalies :10\n",
      "Total_observations : 1000\n",
      "Ration_of_anomalies : 0.010\n"
     ]
    }
   ],
   "source": [
    "# printing\n",
    "print(f\"Number of Anomalies :{number_of_anomalies}\")             \n",
    "print(f\"Total_observations : {total_observations}\")\n",
    "print(f\"Ration_of_anomalies : {ratio_of_anomalies:.3f}\")"
   ]
  },
  {
   "cell_type": "markdown",
   "id": "b25f647c",
   "metadata": {},
   "source": [
    "## Q9"
   ]
  },
  {
   "cell_type": "markdown",
   "id": "fe66dee3",
   "metadata": {},
   "source": [
    "Select the relevant features and fit them into the Machine Learning model “isolation\n",
    "forest” for detecting anomalies. Now get the prediction and convert into binary values.\n"
   ]
  },
  {
   "cell_type": "code",
   "execution_count": 125,
   "id": "06818a89",
   "metadata": {},
   "outputs": [],
   "source": [
    "# selecting the numerical valus that can help in predicting anamolies\n",
    "features = ['Transaction_Amount', 'Transaction_Volume', 'Average_Transaction_Amount', 'Frequency_of_Transactions']\n",
    "data = dataset[features]"
   ]
  },
  {
   "cell_type": "code",
   "execution_count": 126,
   "id": "e8b38c08",
   "metadata": {},
   "outputs": [
    {
     "data": {
      "text/html": [
       "<style>#sk-container-id-3 {color: black;}#sk-container-id-3 pre{padding: 0;}#sk-container-id-3 div.sk-toggleable {background-color: white;}#sk-container-id-3 label.sk-toggleable__label {cursor: pointer;display: block;width: 100%;margin-bottom: 0;padding: 0.3em;box-sizing: border-box;text-align: center;}#sk-container-id-3 label.sk-toggleable__label-arrow:before {content: \"▸\";float: left;margin-right: 0.25em;color: #696969;}#sk-container-id-3 label.sk-toggleable__label-arrow:hover:before {color: black;}#sk-container-id-3 div.sk-estimator:hover label.sk-toggleable__label-arrow:before {color: black;}#sk-container-id-3 div.sk-toggleable__content {max-height: 0;max-width: 0;overflow: hidden;text-align: left;background-color: #f0f8ff;}#sk-container-id-3 div.sk-toggleable__content pre {margin: 0.2em;color: black;border-radius: 0.25em;background-color: #f0f8ff;}#sk-container-id-3 input.sk-toggleable__control:checked~div.sk-toggleable__content {max-height: 200px;max-width: 100%;overflow: auto;}#sk-container-id-3 input.sk-toggleable__control:checked~label.sk-toggleable__label-arrow:before {content: \"▾\";}#sk-container-id-3 div.sk-estimator input.sk-toggleable__control:checked~label.sk-toggleable__label {background-color: #d4ebff;}#sk-container-id-3 div.sk-label input.sk-toggleable__control:checked~label.sk-toggleable__label {background-color: #d4ebff;}#sk-container-id-3 input.sk-hidden--visually {border: 0;clip: rect(1px 1px 1px 1px);clip: rect(1px, 1px, 1px, 1px);height: 1px;margin: -1px;overflow: hidden;padding: 0;position: absolute;width: 1px;}#sk-container-id-3 div.sk-estimator {font-family: monospace;background-color: #f0f8ff;border: 1px dotted black;border-radius: 0.25em;box-sizing: border-box;margin-bottom: 0.5em;}#sk-container-id-3 div.sk-estimator:hover {background-color: #d4ebff;}#sk-container-id-3 div.sk-parallel-item::after {content: \"\";width: 100%;border-bottom: 1px solid gray;flex-grow: 1;}#sk-container-id-3 div.sk-label:hover label.sk-toggleable__label {background-color: #d4ebff;}#sk-container-id-3 div.sk-serial::before {content: \"\";position: absolute;border-left: 1px solid gray;box-sizing: border-box;top: 0;bottom: 0;left: 50%;z-index: 0;}#sk-container-id-3 div.sk-serial {display: flex;flex-direction: column;align-items: center;background-color: white;padding-right: 0.2em;padding-left: 0.2em;position: relative;}#sk-container-id-3 div.sk-item {position: relative;z-index: 1;}#sk-container-id-3 div.sk-parallel {display: flex;align-items: stretch;justify-content: center;background-color: white;position: relative;}#sk-container-id-3 div.sk-item::before, #sk-container-id-3 div.sk-parallel-item::before {content: \"\";position: absolute;border-left: 1px solid gray;box-sizing: border-box;top: 0;bottom: 0;left: 50%;z-index: -1;}#sk-container-id-3 div.sk-parallel-item {display: flex;flex-direction: column;z-index: 1;position: relative;background-color: white;}#sk-container-id-3 div.sk-parallel-item:first-child::after {align-self: flex-end;width: 50%;}#sk-container-id-3 div.sk-parallel-item:last-child::after {align-self: flex-start;width: 50%;}#sk-container-id-3 div.sk-parallel-item:only-child::after {width: 0;}#sk-container-id-3 div.sk-dashed-wrapped {border: 1px dashed gray;margin: 0 0.4em 0.5em 0.4em;box-sizing: border-box;padding-bottom: 0.4em;background-color: white;}#sk-container-id-3 div.sk-label label {font-family: monospace;font-weight: bold;display: inline-block;line-height: 1.2em;}#sk-container-id-3 div.sk-label-container {text-align: center;}#sk-container-id-3 div.sk-container {/* jupyter's `normalize.less` sets `[hidden] { display: none; }` but bootstrap.min.css set `[hidden] { display: none !important; }` so we also need the `!important` here to be able to override the default hidden behavior on the sphinx rendered scikit-learn.org. See: https://github.com/scikit-learn/scikit-learn/issues/21755 */display: inline-block !important;position: relative;}#sk-container-id-3 div.sk-text-repr-fallback {display: none;}</style><div id=\"sk-container-id-3\" class=\"sk-top-container\"><div class=\"sk-text-repr-fallback\"><pre>IsolationForest(contamination=0.01, random_state=42)</pre><b>In a Jupyter environment, please rerun this cell to show the HTML representation or trust the notebook. <br />On GitHub, the HTML representation is unable to render, please try loading this page with nbviewer.org.</b></div><div class=\"sk-container\" hidden><div class=\"sk-item\"><div class=\"sk-estimator sk-toggleable\"><input class=\"sk-toggleable__control sk-hidden--visually\" id=\"sk-estimator-id-3\" type=\"checkbox\" checked><label for=\"sk-estimator-id-3\" class=\"sk-toggleable__label sk-toggleable__label-arrow\">IsolationForest</label><div class=\"sk-toggleable__content\"><pre>IsolationForest(contamination=0.01, random_state=42)</pre></div></div></div></div></div>"
      ],
      "text/plain": [
       "IsolationForest(contamination=0.01, random_state=42)"
      ]
     },
     "execution_count": 126,
     "metadata": {},
     "output_type": "execute_result"
    }
   ],
   "source": [
    "# using IsolationForest to create model\n",
    "model = IsolationForest(n_estimators = 100, contamination = 0.01, random_state = 42)\n",
    "model.fit(data)"
   ]
  },
  {
   "cell_type": "code",
   "execution_count": 127,
   "id": "9ad3737b",
   "metadata": {},
   "outputs": [],
   "source": [
    "# predicting with the help of model\n",
    "predictions = model.predict(data)"
   ]
  },
  {
   "cell_type": "code",
   "execution_count": 150,
   "id": "e4d0a2c2",
   "metadata": {},
   "outputs": [],
   "source": [
    "# converting predictions to binary values i.e 0 and 1\n",
    "binary_predictions = np.where(predictions == 1,0,1)"
   ]
  },
  {
   "cell_type": "code",
   "execution_count": 180,
   "id": "5d79612a",
   "metadata": {},
   "outputs": [],
   "source": [
    "# creating column for storing Anamoly_Predicions\n",
    "dataset['Anomaly_Prediction'] = binary_predictions"
   ]
  },
  {
   "cell_type": "code",
   "execution_count": 181,
   "id": "f77acb3e",
   "metadata": {},
   "outputs": [
    {
     "name": "stdout",
     "output_type": "stream",
     "text": [
      "   Transaction_ID  Transaction_Amount  Transaction_Volume  \\\n",
      "0             TX0         1024.835708                   3   \n",
      "1             TX1         1013.952065                   4   \n",
      "2             TX2          970.956093                   1   \n",
      "3             TX3         1040.822254                   2   \n",
      "4             TX4          998.777241                   1   \n",
      "5             TX5          969.987307                   1   \n",
      "6             TX6          973.317560                   2   \n",
      "7             TX7          931.103035                   4   \n",
      "8             TX8         1036.923329                   4   \n",
      "9             TX9         1013.174302                   4   \n",
      "10           TX10          966.153900                   4   \n",
      "11           TX11         1023.802129                   2   \n",
      "12           TX12          955.183241                   3   \n",
      "13           TX13          897.778849                   3   \n",
      "14           TX14          998.208698                   1   \n",
      "15           TX15         1004.352353                   4   \n",
      "16           TX16          929.070177                   1   \n",
      "17           TX17          926.651606                   1   \n",
      "18           TX18         1004.853877                   2   \n",
      "19           TX19          980.394592                   4   \n",
      "\n",
      "    Average_Transaction_Amount  Frequency_of_Transactions  \\\n",
      "0                   997.234714                         12   \n",
      "1                  1020.210306                          7   \n",
      "2                   989.496604                          5   \n",
      "3                   969.522480                         16   \n",
      "4                  1007.111026                          7   \n",
      "5                  1018.948796                          6   \n",
      "6                   999.889443                          5   \n",
      "7                   992.937667                         10   \n",
      "8                  1003.427366                         18   \n",
      "9                  1032.835422                         14   \n",
      "10                 1012.233526                         19   \n",
      "11                 1026.073225                         11   \n",
      "12                  997.760244                         11   \n",
      "13                 1021.389618                         18   \n",
      "14                 1031.292873                         19   \n",
      "15                  994.019853                         17   \n",
      "16                 1003.806740                         11   \n",
      "17                 1017.852589                         10   \n",
      "18                 1019.372900                         11   \n",
      "19                  970.729701                         17   \n",
      "\n",
      "    Time_Since_Last_Transaction Day_of_Week Time_of_Day  Age  Gender   Income  \\\n",
      "0                            29      Friday       06:00   36    Male  1436074   \n",
      "1                            22      Friday       01:00   41  Female   627069   \n",
      "2                            12     Tuesday       21:00   61    Male   786232   \n",
      "3                            28      Sunday       14:00   61    Male   619030   \n",
      "4                             7      Friday       08:00   56  Female   649457   \n",
      "5                            20    Thursday       14:00   24    Male   872843   \n",
      "6                             4     Tuesday       07:00   21    Male  1105889   \n",
      "7                            29      Sunday       17:00   43    Male   502283   \n",
      "8                            23    Thursday       07:00   38  Female   323247   \n",
      "9                            25    Thursday       12:00   58  Female  1278732   \n",
      "10                           11   Wednesday       16:00   25    Male   313986   \n",
      "11                           26      Monday       06:00   26  Female  1379111   \n",
      "12                           24      Friday       02:00   61  Female   324538   \n",
      "13                            3      Monday       04:00   43    Male   923094   \n",
      "14                           15     Tuesday       09:00   30    Male   553618   \n",
      "15                            4    Saturday       04:00   40  Female  1273548   \n",
      "16                           27   Wednesday       21:00   45  Female   343585   \n",
      "17                           28    Thursday       11:00   61  Female   325939   \n",
      "18                           28      Monday       06:00   50  Female   985440   \n",
      "19                            9   Wednesday       06:00   23  Female   321959   \n",
      "\n",
      "   Account_Type  Anamoly_score  Anamoly_or_not  Anamoly_Prediction  \\\n",
      "0       Savings              1           False                   0   \n",
      "1       Savings              1           False                   0   \n",
      "2       Savings              1           False                   0   \n",
      "3       Savings              1           False                   0   \n",
      "4       Savings              1           False                   0   \n",
      "5       Savings              1           False                   0   \n",
      "6       Savings              1           False                   0   \n",
      "7       Savings              1           False                   0   \n",
      "8       Savings              1           False                   0   \n",
      "9       Current              1           False                   0   \n",
      "10      Savings              1           False                   0   \n",
      "11      Current              1           False                   0   \n",
      "12      Savings              1           False                   0   \n",
      "13      Current              1           False                   0   \n",
      "14      Savings              1           False                   0   \n",
      "15      Savings              1           False                   0   \n",
      "16      Current              1           False                   0   \n",
      "17      Savings              1           False                   0   \n",
      "18      Savings              1           False                   0   \n",
      "19      Savings              1           False                   0   \n",
      "\n",
      "    True_label  binary_predictions  Anomaly_score  Anomaly_or_not  \\\n",
      "0            0                   0              1           False   \n",
      "1            0                   0              1           False   \n",
      "2            0                   0              1           False   \n",
      "3            0                   0              1           False   \n",
      "4            0                   0              1           False   \n",
      "5            0                   0              1           False   \n",
      "6            0                   0              1           False   \n",
      "7            0                   0              1           False   \n",
      "8            0                   0              1           False   \n",
      "9            0                   0              1           False   \n",
      "10           0                   0              1           False   \n",
      "11           0                   0              1           False   \n",
      "12           0                   0              1           False   \n",
      "13           0                   0              1           False   \n",
      "14           0                   0              1           False   \n",
      "15           0                   0              1           False   \n",
      "16           0                   0              1           False   \n",
      "17           0                   0              1           False   \n",
      "18           0                   0              1           False   \n",
      "19           0                   0              1           False   \n",
      "\n",
      "    Anomaly_Prediction  \n",
      "0                    0  \n",
      "1                    0  \n",
      "2                    0  \n",
      "3                    0  \n",
      "4                    0  \n",
      "5                    0  \n",
      "6                    0  \n",
      "7                    0  \n",
      "8                    0  \n",
      "9                    0  \n",
      "10                   0  \n",
      "11                   0  \n",
      "12                   0  \n",
      "13                   0  \n",
      "14                   0  \n",
      "15                   0  \n",
      "16                   0  \n",
      "17                   0  \n",
      "18                   0  \n",
      "19                   0  \n"
     ]
    }
   ],
   "source": [
    "# Printing excel sheet's 1st 20 columns \n",
    "print(dataset.head(20))"
   ]
  },
  {
   "cell_type": "code",
   "execution_count": 182,
   "id": "221ebb71",
   "metadata": {},
   "outputs": [
    {
     "name": "stdout",
     "output_type": "stream",
     "text": [
      "  Transaction_ID  Transaction_Amount  Transaction_Volume  \\\n",
      "0            TX0         1024.835708                   3   \n",
      "1            TX1         1013.952065                   4   \n",
      "2            TX2          970.956093                   1   \n",
      "3            TX3         1040.822254                   2   \n",
      "4            TX4          998.777241                   1   \n",
      "\n",
      "   Average_Transaction_Amount  Frequency_of_Transactions  \\\n",
      "0                  997.234714                         12   \n",
      "1                 1020.210306                          7   \n",
      "2                  989.496604                          5   \n",
      "3                  969.522480                         16   \n",
      "4                 1007.111026                          7   \n",
      "\n",
      "   Time_Since_Last_Transaction Day_of_Week Time_of_Day  Age  Gender   Income  \\\n",
      "0                           29      Friday       06:00   36    Male  1436074   \n",
      "1                           22      Friday       01:00   41  Female   627069   \n",
      "2                           12     Tuesday       21:00   61    Male   786232   \n",
      "3                           28      Sunday       14:00   61    Male   619030   \n",
      "4                            7      Friday       08:00   56  Female   649457   \n",
      "\n",
      "  Account_Type  Anamoly_score  Anamoly_or_not  Anamoly_Prediction  True_label  \\\n",
      "0      Savings              1           False                   0           0   \n",
      "1      Savings              1           False                   0           0   \n",
      "2      Savings              1           False                   0           0   \n",
      "3      Savings              1           False                   0           0   \n",
      "4      Savings              1           False                   0           0   \n",
      "\n",
      "   binary_predictions  Anomaly_score  Anomaly_or_not  Anomaly_Prediction  \n",
      "0                   0              1           False                   0  \n",
      "1                   0              1           False                   0  \n",
      "2                   0              1           False                   0  \n",
      "3                   0              1           False                   0  \n",
      "4                   0              1           False                   0  \n",
      "Index(['Transaction_ID', 'Transaction_Amount', 'Transaction_Volume',\n",
      "       'Average_Transaction_Amount', 'Frequency_of_Transactions',\n",
      "       'Time_Since_Last_Transaction', 'Day_of_Week', 'Time_of_Day', 'Age',\n",
      "       'Gender', 'Income', 'Account_Type', 'Anamoly_score', 'Anamoly_or_not',\n",
      "       'Anamoly_Prediction', 'True_label', 'binary_predictions',\n",
      "       'Anomaly_score', 'Anomaly_or_not', 'Anomaly_Prediction'],\n",
      "      dtype='object')\n"
     ]
    }
   ],
   "source": [
    "print(dataset.head())\n",
    "print(dataset.columns)"
   ]
  },
  {
   "cell_type": "code",
   "execution_count": 154,
   "id": "cf8853b6",
   "metadata": {},
   "outputs": [],
   "source": [
    "limit = 10000"
   ]
  },
  {
   "cell_type": "code",
   "execution_count": 155,
   "id": "b9a01646",
   "metadata": {},
   "outputs": [],
   "source": [
    "dataset['True_label'] = 0"
   ]
  },
  {
   "cell_type": "code",
   "execution_count": 156,
   "id": "46acd3fc",
   "metadata": {},
   "outputs": [],
   "source": [
    "dataset.loc[dataset['Transaction_Amount'] > limit, 'True_label'] = 1"
   ]
  },
  {
   "cell_type": "code",
   "execution_count": 157,
   "id": "860dae43",
   "metadata": {},
   "outputs": [],
   "source": [
    "features = dataset[['Transaction_Amount', 'Transaction_Volume']]"
   ]
  },
  {
   "cell_type": "code",
   "execution_count": 158,
   "id": "158ff211",
   "metadata": {},
   "outputs": [
    {
     "name": "stderr",
     "output_type": "stream",
     "text": [
      "C:\\Users\\Saddu\\AppData\\Local\\Temp\\ipykernel_2420\\460100900.py:1: SettingWithCopyWarning: \n",
      "A value is trying to be set on a copy of a slice from a DataFrame\n",
      "\n",
      "See the caveats in the documentation: https://pandas.pydata.org/pandas-docs/stable/user_guide/indexing.html#returning-a-view-versus-a-copy\n",
      "  features.fillna(features.median(), inplace = True)\n"
     ]
    }
   ],
   "source": [
    "features.fillna(features.median(), inplace = True)"
   ]
  },
  {
   "cell_type": "code",
   "execution_count": 159,
   "id": "f10022a1",
   "metadata": {},
   "outputs": [],
   "source": [
    "model = IsolationForest(random_state = 42)"
   ]
  },
  {
   "cell_type": "code",
   "execution_count": 160,
   "id": "78d535b7",
   "metadata": {},
   "outputs": [
    {
     "data": {
      "text/html": [
       "<style>#sk-container-id-5 {color: black;}#sk-container-id-5 pre{padding: 0;}#sk-container-id-5 div.sk-toggleable {background-color: white;}#sk-container-id-5 label.sk-toggleable__label {cursor: pointer;display: block;width: 100%;margin-bottom: 0;padding: 0.3em;box-sizing: border-box;text-align: center;}#sk-container-id-5 label.sk-toggleable__label-arrow:before {content: \"▸\";float: left;margin-right: 0.25em;color: #696969;}#sk-container-id-5 label.sk-toggleable__label-arrow:hover:before {color: black;}#sk-container-id-5 div.sk-estimator:hover label.sk-toggleable__label-arrow:before {color: black;}#sk-container-id-5 div.sk-toggleable__content {max-height: 0;max-width: 0;overflow: hidden;text-align: left;background-color: #f0f8ff;}#sk-container-id-5 div.sk-toggleable__content pre {margin: 0.2em;color: black;border-radius: 0.25em;background-color: #f0f8ff;}#sk-container-id-5 input.sk-toggleable__control:checked~div.sk-toggleable__content {max-height: 200px;max-width: 100%;overflow: auto;}#sk-container-id-5 input.sk-toggleable__control:checked~label.sk-toggleable__label-arrow:before {content: \"▾\";}#sk-container-id-5 div.sk-estimator input.sk-toggleable__control:checked~label.sk-toggleable__label {background-color: #d4ebff;}#sk-container-id-5 div.sk-label input.sk-toggleable__control:checked~label.sk-toggleable__label {background-color: #d4ebff;}#sk-container-id-5 input.sk-hidden--visually {border: 0;clip: rect(1px 1px 1px 1px);clip: rect(1px, 1px, 1px, 1px);height: 1px;margin: -1px;overflow: hidden;padding: 0;position: absolute;width: 1px;}#sk-container-id-5 div.sk-estimator {font-family: monospace;background-color: #f0f8ff;border: 1px dotted black;border-radius: 0.25em;box-sizing: border-box;margin-bottom: 0.5em;}#sk-container-id-5 div.sk-estimator:hover {background-color: #d4ebff;}#sk-container-id-5 div.sk-parallel-item::after {content: \"\";width: 100%;border-bottom: 1px solid gray;flex-grow: 1;}#sk-container-id-5 div.sk-label:hover label.sk-toggleable__label {background-color: #d4ebff;}#sk-container-id-5 div.sk-serial::before {content: \"\";position: absolute;border-left: 1px solid gray;box-sizing: border-box;top: 0;bottom: 0;left: 50%;z-index: 0;}#sk-container-id-5 div.sk-serial {display: flex;flex-direction: column;align-items: center;background-color: white;padding-right: 0.2em;padding-left: 0.2em;position: relative;}#sk-container-id-5 div.sk-item {position: relative;z-index: 1;}#sk-container-id-5 div.sk-parallel {display: flex;align-items: stretch;justify-content: center;background-color: white;position: relative;}#sk-container-id-5 div.sk-item::before, #sk-container-id-5 div.sk-parallel-item::before {content: \"\";position: absolute;border-left: 1px solid gray;box-sizing: border-box;top: 0;bottom: 0;left: 50%;z-index: -1;}#sk-container-id-5 div.sk-parallel-item {display: flex;flex-direction: column;z-index: 1;position: relative;background-color: white;}#sk-container-id-5 div.sk-parallel-item:first-child::after {align-self: flex-end;width: 50%;}#sk-container-id-5 div.sk-parallel-item:last-child::after {align-self: flex-start;width: 50%;}#sk-container-id-5 div.sk-parallel-item:only-child::after {width: 0;}#sk-container-id-5 div.sk-dashed-wrapped {border: 1px dashed gray;margin: 0 0.4em 0.5em 0.4em;box-sizing: border-box;padding-bottom: 0.4em;background-color: white;}#sk-container-id-5 div.sk-label label {font-family: monospace;font-weight: bold;display: inline-block;line-height: 1.2em;}#sk-container-id-5 div.sk-label-container {text-align: center;}#sk-container-id-5 div.sk-container {/* jupyter's `normalize.less` sets `[hidden] { display: none; }` but bootstrap.min.css set `[hidden] { display: none !important; }` so we also need the `!important` here to be able to override the default hidden behavior on the sphinx rendered scikit-learn.org. See: https://github.com/scikit-learn/scikit-learn/issues/21755 */display: inline-block !important;position: relative;}#sk-container-id-5 div.sk-text-repr-fallback {display: none;}</style><div id=\"sk-container-id-5\" class=\"sk-top-container\"><div class=\"sk-text-repr-fallback\"><pre>IsolationForest(random_state=42)</pre><b>In a Jupyter environment, please rerun this cell to show the HTML representation or trust the notebook. <br />On GitHub, the HTML representation is unable to render, please try loading this page with nbviewer.org.</b></div><div class=\"sk-container\" hidden><div class=\"sk-item\"><div class=\"sk-estimator sk-toggleable\"><input class=\"sk-toggleable__control sk-hidden--visually\" id=\"sk-estimator-id-5\" type=\"checkbox\" checked><label for=\"sk-estimator-id-5\" class=\"sk-toggleable__label sk-toggleable__label-arrow\">IsolationForest</label><div class=\"sk-toggleable__content\"><pre>IsolationForest(random_state=42)</pre></div></div></div></div></div>"
      ],
      "text/plain": [
       "IsolationForest(random_state=42)"
      ]
     },
     "execution_count": 160,
     "metadata": {},
     "output_type": "execute_result"
    }
   ],
   "source": [
    "model.fit(features.values)"
   ]
  },
  {
   "cell_type": "code",
   "execution_count": 161,
   "id": "b2860388",
   "metadata": {},
   "outputs": [],
   "source": [
    "prediction = model.predict(features.values)\n",
    "dataset['binary_predictions'] = np.where(predictions == -1, 1, 0)"
   ]
  },
  {
   "cell_type": "markdown",
   "id": "f3159074",
   "metadata": {},
   "source": [
    "## Q10"
   ]
  },
  {
   "cell_type": "markdown",
   "id": "7d3cb116",
   "metadata": {},
   "source": [
    "Show the classification report"
   ]
  },
  {
   "cell_type": "code",
   "execution_count": 168,
   "id": "a2c0a6f8",
   "metadata": {},
   "outputs": [],
   "source": [
    "from sklearn.metrics import classification_report"
   ]
  },
  {
   "cell_type": "code",
   "execution_count": 188,
   "id": "bc6a014c",
   "metadata": {},
   "outputs": [],
   "source": [
    "true_labels = dataset['True_label']\n",
    "binary_predictions = dataset['binary_predictions']"
   ]
  },
  {
   "cell_type": "code",
   "execution_count": 183,
   "id": "c55dab7b",
   "metadata": {},
   "outputs": [
    {
     "name": "stderr",
     "output_type": "stream",
     "text": [
      "C:\\Users\\Saddu\\anaconda3\\Lib\\site-packages\\sklearn\\metrics\\_classification.py:1469: UndefinedMetricWarning: Recall and F-score are ill-defined and being set to 0.0 in labels with no true samples. Use `zero_division` parameter to control this behavior.\n",
      "  _warn_prf(average, modifier, msg_start, len(result))\n",
      "C:\\Users\\Saddu\\anaconda3\\Lib\\site-packages\\sklearn\\metrics\\_classification.py:1469: UndefinedMetricWarning: Recall and F-score are ill-defined and being set to 0.0 in labels with no true samples. Use `zero_division` parameter to control this behavior.\n",
      "  _warn_prf(average, modifier, msg_start, len(result))\n",
      "C:\\Users\\Saddu\\anaconda3\\Lib\\site-packages\\sklearn\\metrics\\_classification.py:1469: UndefinedMetricWarning: Recall and F-score are ill-defined and being set to 0.0 in labels with no true samples. Use `zero_division` parameter to control this behavior.\n",
      "  _warn_prf(average, modifier, msg_start, len(result))\n"
     ]
    }
   ],
   "source": [
    "report = classification_report(true_labels, binary_predictions, target_names = ['Normal', 'Anomaly'])"
   ]
  },
  {
   "cell_type": "code",
   "execution_count": 171,
   "id": "5e43f263",
   "metadata": {},
   "outputs": [
    {
     "name": "stdout",
     "output_type": "stream",
     "text": [
      "              precision    recall  f1-score   support\n",
      "\n",
      "      Normal       1.00      0.99      0.99      1000\n",
      "     Anamoly       0.00      0.00      0.00         0\n",
      "\n",
      "    accuracy                           0.99      1000\n",
      "   macro avg       0.50      0.49      0.50      1000\n",
      "weighted avg       1.00      0.99      0.99      1000\n",
      "\n"
     ]
    }
   ],
   "source": [
    "print(report)"
   ]
  },
  {
   "cell_type": "markdown",
   "id": "a377cf79",
   "metadata": {},
   "source": [
    "## Q11\n",
    "\n"
   ]
  },
  {
   "cell_type": "markdown",
   "id": "1bd42c0d",
   "metadata": {},
   "source": [
    " Use the trained model to detect anomalies to bring following result."
   ]
  },
  {
   "cell_type": "code",
   "execution_count": 184,
   "id": "e7c6182d",
   "metadata": {},
   "outputs": [],
   "source": [
    "num_anomalies = dataset['Anomaly_Prediction'].sum()\n",
    "total_transactions = len(dataset)\n",
    "percentage_anomalies = (num_anomalies / total_transactions) * 100"
   ]
  },
  {
   "cell_type": "code",
   "execution_count": 185,
   "id": "ab568d65",
   "metadata": {},
   "outputs": [
    {
     "name": "stdout",
     "output_type": "stream",
     "text": [
      "Number of anomalies detected: 10\n",
      "Total number of Transactions: 1000\n",
      "Percentage of transactions classified as anomalies: 1.000%\n"
     ]
    }
   ],
   "source": [
    "print(f\"Number of anomalies detected: {num_anomalies}\")\n",
    "print(f\"Total number of Transactions: {total_transactions}\")\n",
    "print(f\"Percentage of transactions classified as anomalies: {percentage_anomalies:.3f}%\")"
   ]
  },
  {
   "cell_type": "code",
   "execution_count": 187,
   "id": "cd706856",
   "metadata": {},
   "outputs": [
    {
     "name": "stdout",
     "output_type": "stream",
     "text": [
      "\n",
      " Sample of transactions classified as anomalies: \n",
      "    Transaction_ID  Transaction_Amount  Transaction_Volume  \\\n",
      "188          TX188         3094.817415                   3   \n",
      "307          TX307         3058.483023                   3   \n",
      "422          TX422         3218.959781                   1   \n",
      "484          TX484         3166.250653                   4   \n",
      "550          TX550         3227.459108                   4   \n",
      "\n",
      "     Average_Transaction_Amount  Frequency_of_Transactions  \\\n",
      "188                  980.424667                          6   \n",
      "307                  984.552604                          5   \n",
      "422                  965.597949                         15   \n",
      "484                 1011.935656                         18   \n",
      "550                 1012.042366                          7   \n",
      "\n",
      "     Time_Since_Last_Transaction Day_of_Week Time_of_Day  Age  Gender  \\\n",
      "188                           10      Sunday       11:00   57  Female   \n",
      "307                            4      Monday       19:00   51  Female   \n",
      "422                           23      Sunday       09:00   27  Female   \n",
      "484                            6      Monday       14:00   20  Female   \n",
      "550                           11    Thursday       11:00   29  Female   \n",
      "\n",
      "      Income Account_Type  Anamoly_score  Anamoly_or_not  Anamoly_Prediction  \\\n",
      "188  1158058      Current             -1            True                   1   \n",
      "307   819165      Current             -1            True                   1   \n",
      "422  1002495      Current             -1            True                   1   \n",
      "484   745093      Current              1           False                   1   \n",
      "550   566150      Savings             -1            True                   1   \n",
      "\n",
      "     True_label  binary_predictions  Anomaly_score  Anomaly_or_not  \\\n",
      "188           0                   1             -1            True   \n",
      "307           0                   1             -1            True   \n",
      "422           0                   1             -1            True   \n",
      "484           0                   1             -1            True   \n",
      "550           0                   1             -1            True   \n",
      "\n",
      "     Anomaly_Prediction  \n",
      "188                   1  \n",
      "307                   1  \n",
      "422                   1  \n",
      "484                   1  \n",
      "550                   1  \n"
     ]
    }
   ],
   "source": [
    "print(\"\\n Sample of transactions classified as anomalies: \")\n",
    "print(dataset[dataset['Anomaly_Prediction'] == 1].head())"
   ]
  },
  {
   "cell_type": "code",
   "execution_count": null,
   "id": "ee414d45",
   "metadata": {},
   "outputs": [],
   "source": []
  }
 ],
 "metadata": {
  "kernelspec": {
   "display_name": "Python 3 (ipykernel)",
   "language": "python",
   "name": "python3"
  },
  "language_info": {
   "codemirror_mode": {
    "name": "ipython",
    "version": 3
   },
   "file_extension": ".py",
   "mimetype": "text/x-python",
   "name": "python",
   "nbconvert_exporter": "python",
   "pygments_lexer": "ipython3",
   "version": "3.11.5"
  }
 },
 "nbformat": 4,
 "nbformat_minor": 5
}
